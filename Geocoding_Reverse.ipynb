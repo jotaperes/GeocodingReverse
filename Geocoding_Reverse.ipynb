{
  "nbformat": 4,
  "nbformat_minor": 0,
  "metadata": {
    "colab": {
      "name": "Geocoding Reverse.ipynb",
      "provenance": [],
      "authorship_tag": "ABX9TyMQJPmD6X7jfi8g+Ym1tygy",
      "include_colab_link": true
    },
    "kernelspec": {
      "name": "python3",
      "display_name": "Python 3"
    },
    "language_info": {
      "name": "python"
    }
  },
  "cells": [
    {
      "cell_type": "markdown",
      "metadata": {
        "id": "view-in-github",
        "colab_type": "text"
      },
      "source": [
        "<a href=\"https://colab.research.google.com/github/jotaperes/GeocodingReverse/blob/main/Geocoding_Reverse.ipynb\" target=\"_parent\"><img src=\"https://colab.research.google.com/assets/colab-badge.svg\" alt=\"Open In Colab\"/></a>"
      ]
    },
    {
      "cell_type": "markdown",
      "source": [
        "#Geocoding Reverse\n",
        "\n",
        "Recentemente, surgiu uma demanda no meu trabalho relacionada a necessidade de descobrir endereços a partir das coordenadas de um determinado objeto. Então, achei que seria um projeto interessante para desenvolver.\n",
        "\n",
        "Após algumas tentativas e testes diversos, cheguei a um código bem enxuto que realiza de forma bem prática e fácil todo o processo.\n",
        "\n",
        "Tive como referência as seguintes fontes:\n",
        "\n",
        "https://geopy.readthedocs.io/en/stable/#\n",
        "\n",
        "https://towardsdatascience.com/reverse-geocoding-in-python-a915acf29eb6#:~:text=Reverse%20Geocoding%20is%20an%20essential,features%20is%20called%20Reverse%20Geocoding."
      ],
      "metadata": {
        "id": "R7F_9Qg0B0bg"
      }
    },
    {
      "cell_type": "code",
      "execution_count": 1,
      "metadata": {
        "colab": {
          "base_uri": "https://localhost:8080/",
          "height": 408
        },
        "id": "TkdMi1mujMvr",
        "outputId": "b96a951d-8199-4f6c-caa2-1c6ea28e8829"
      },
      "outputs": [
        {
          "output_type": "stream",
          "name": "stdout",
          "text": [
            "Looking in indexes: https://pypi.org/simple, https://us-python.pkg.dev/colab-wheels/public/simple/\n",
            "Requirement already satisfied: tqdm in /usr/local/lib/python3.7/dist-packages (4.64.0)\n"
          ]
        },
        {
          "output_type": "error",
          "ename": "ModuleNotFoundError",
          "evalue": "ignored",
          "traceback": [
            "\u001b[0;31m---------------------------------------------------------------------------\u001b[0m",
            "\u001b[0;31mModuleNotFoundError\u001b[0m                       Traceback (most recent call last)",
            "\u001b[0;32m<ipython-input-1-a74152050a16>\u001b[0m in \u001b[0;36m<module>\u001b[0;34m()\u001b[0m\n\u001b[1;32m      1\u001b[0m \u001b[0mget_ipython\u001b[0m\u001b[0;34m(\u001b[0m\u001b[0;34m)\u001b[0m\u001b[0;34m.\u001b[0m\u001b[0msystem\u001b[0m\u001b[0;34m(\u001b[0m\u001b[0;34m'pip install tqdm'\u001b[0m\u001b[0;34m)\u001b[0m\u001b[0;34m\u001b[0m\u001b[0;34m\u001b[0m\u001b[0m\n\u001b[1;32m      2\u001b[0m \u001b[0;34m\u001b[0m\u001b[0m\n\u001b[0;32m----> 3\u001b[0;31m \u001b[0;32mimport\u001b[0m \u001b[0mgeopandas\u001b[0m \u001b[0;32mas\u001b[0m \u001b[0mgpds\u001b[0m \u001b[0;31m#https://geopandas.org/en/stable/index.html\u001b[0m\u001b[0;34m\u001b[0m\u001b[0;34m\u001b[0m\u001b[0m\n\u001b[0m\u001b[1;32m      4\u001b[0m \u001b[0;32mimport\u001b[0m \u001b[0mpandas\u001b[0m \u001b[0;32mas\u001b[0m \u001b[0mpd\u001b[0m\u001b[0;34m\u001b[0m\u001b[0;34m\u001b[0m\u001b[0m\n\u001b[1;32m      5\u001b[0m \u001b[0;32mimport\u001b[0m \u001b[0mgeopy\u001b[0m\u001b[0;34m\u001b[0m\u001b[0;34m\u001b[0m\u001b[0m\n",
            "\u001b[0;31mModuleNotFoundError\u001b[0m: No module named 'geopandas'",
            "",
            "\u001b[0;31m---------------------------------------------------------------------------\u001b[0;32m\nNOTE: If your import is failing due to a missing package, you can\nmanually install dependencies using either !pip or !apt.\n\nTo view examples of installing some common dependencies, click the\n\"Open Examples\" button below.\n\u001b[0;31m---------------------------------------------------------------------------\u001b[0m\n"
          ],
          "errorDetails": {
            "actions": [
              {
                "action": "open_url",
                "actionText": "Open Examples",
                "url": "/notebooks/snippets/importing_libraries.ipynb"
              }
            ]
          }
        }
      ],
      "source": [
        "!pip install tqdm\n",
        "\n",
        "import geopandas as gpds #https://geopandas.org/en/stable/index.html\n",
        "import pandas as pd\n",
        "import geopy \n",
        "from geopy.geocoders import Nominatim\n",
        "from geopy.extra.rate_limiter import RateLimiter #Necessário para grandes quantidades de acessos, o que não é o caso presente, mas vale deixar por aqui.\n",
        "import tqdm #biblioteca para visualizar barra de carregamento\n",
        "from tqdm._tqdm_notebook import tqdm_notebook"
      ]
    },
    {
      "cell_type": "code",
      "source": [
        "#Testando o reverse e analisando como os dados são extraídos.\n",
        "\n",
        "coordinates = '-22.8810148, -43.0967501'\n",
        "location = locator.reverse(coordinates, language = 'pt-br')\n",
        "location.raw"
      ],
      "metadata": {
        "id": "n3BQZopqjner"
      },
      "execution_count": null,
      "outputs": []
    },
    {
      "cell_type": "markdown",
      "source": [
        "Testando o geopandas com o endereço do Barra Shopping presente no Google.\n",
        "Cabe esclarecer que ele dá o endereço aproximado e que as bases são diferentes da API do Google.\n",
        "Aparentemente está tudo certo."
      ],
      "metadata": {
        "id": "zEU4ZAi6GZO4"
      }
    },
    {
      "cell_type": "code",
      "source": [
        "local = 'Av. das Américas, 4666 - Barra da Tijuca, Rio de Janeiro - RJ, 22640-102'\n",
        "gpds.tools.geocode(local, provider = 'nominatim', user_agent = \"assinaturasjoaopedro@gmail.com\", country_bias = 'Brazil')"
      ],
      "metadata": {
        "id": "CFJVx3VnDrG3"
      },
      "execution_count": null,
      "outputs": []
    },
    {
      "cell_type": "code",
      "source": [
        "#importando os dados\n",
        "df = pd.read_excel('localizacoes.xlsx')\n",
        "df.head()"
      ],
      "metadata": {
        "id": "DJYzYE5IkfIx"
      },
      "execution_count": null,
      "outputs": []
    },
    {
      "cell_type": "markdown",
      "source": [
        "O geopy apenas aceita os dados no formato f'{y},{x}'. Por isso, é preciso criar essa nova coluna que chamei de geom.\n"
      ],
      "metadata": {
        "id": "-cEaX4CrGn5b"
      }
    },
    {
      "cell_type": "code",
      "source": [
        "df['geom'] = df[\"Y\"].map(str) + ','+ df['X'].map(str)\n",
        "df['geom'][0]"
      ],
      "metadata": {
        "id": "97L9oZu4oWYQ"
      },
      "execution_count": null,
      "outputs": []
    },
    {
      "cell_type": "code",
      "source": [
        "locator = Nominatim(user_agent='XXXXXX', timeout=10) #definindo o user_agent novamente\n",
        "rgeocode = RateLimiter(locator.reverse, min_delay_seconds=0.001) #definindo o ratelimiter"
      ],
      "metadata": {
        "id": "gFp9etp8qCyB"
      },
      "execution_count": null,
      "outputs": []
    },
    {
      "cell_type": "markdown",
      "source": [
        "Aqui, eu criei um loop que basicamente faz a requisição da informação para cada linha de meu banco de dados e salva primeiro em algumas variáveis, que depois são concatenadas em uma lista. Essa lista posteriormente se transforma em um dataframe."
      ],
      "metadata": {
        "id": "-0CwUSSHHNsg"
      }
    },
    {
      "cell_type": "code",
      "source": [
        "endereco_completo=[]\n",
        "\n",
        "for i in tqdm(range(len(df))):\n",
        "    location = locator.reverse(df['geom'][i], language = 'pt-br')\n",
        "    object_id = df['ID'][i]\n",
        "    cidade = location.raw['address']['city']\n",
        "    estado = location.raw['address']['state']\n",
        "    geom = location.raw['lat'] + ',' + location.raw['lon']\n",
        "    endereco_completo.append([cidade, estado, geom, location, object_id])\n"
      ],
      "metadata": {
        "id": "JEG5lRcTYQKB"
      },
      "execution_count": null,
      "outputs": []
    },
    {
      "cell_type": "code",
      "source": [
        "df_endereco = pd.DataFrame(endereco_completo, columns=[\"cidade\", \"estado\", \"geom\", \"location\", \"id\"])\n",
        "\n",
        "df_endereco"
      ],
      "metadata": {
        "id": "Uc4wPW-MnZct"
      },
      "execution_count": null,
      "outputs": []
    },
    {
      "cell_type": "markdown",
      "source": [
        "#Enfim, o final\n",
        "\n",
        "Realizo um merge com os dois bancos."
      ],
      "metadata": {
        "id": "lusK7GsVHph-"
      }
    },
    {
      "cell_type": "code",
      "source": [
        "df = df.merge(df_endereco, left_on='ID', right_on='id')"
      ],
      "metadata": {
        "id": "vlWuZbQJ45a2"
      },
      "execution_count": null,
      "outputs": []
    },
    {
      "cell_type": "code",
      "source": [
        "df.head()"
      ],
      "metadata": {
        "id": "oZBIxp3S55wF"
      },
      "execution_count": null,
      "outputs": []
    }
  ]
}